{
 "cells": [
  {
   "cell_type": "code",
   "execution_count": 1,
   "metadata": {},
   "outputs": [],
   "source": [
    "using DrWatson\n",
    "@quickactivate \"FitHMM-jl\"\n",
    "\n",
    "using CSV, DataFrames, Dates, ShiftedArrays, JLD2"
   ]
  },
  {
   "cell_type": "code",
   "execution_count": 2,
   "metadata": {},
   "outputs": [
    {
     "data": {
      "text/plain": [
       "enum_hardware_trips_and_find_start (generic function with 1 method)"
      ]
     },
     "metadata": {},
     "output_type": "display_data"
    }
   ],
   "source": [
    "function find_angle(lat1, long1, lat2, long2)   # tested\n",
    "    lat1_r = lat1 .* pi ./ 180\n",
    "    lat2_r = lat2 .* pi ./ 180\n",
    "    # long1_r = long1 .* pi ./ 180\n",
    "    # long2_r = long2 .* pi ./ 180\n",
    "    delta_long = (long2 .- long1) .* pi ./ 180\n",
    "    theta_r = atan.(sin.(delta_long).*cos.(lat2_r), \n",
    "                    cos.(lat1_r).*sin.(lat2_r) .- sin.(lat1_r).*cos.(lat2_r).*cos.(delta_long))\n",
    "    \n",
    "    return theta_r\n",
    "end\n",
    "\n",
    "function angle_change(unit, angle1, angle2) # tested\n",
    "    if unit == \"degree\"\n",
    "        change = angle2 .- angle1\n",
    "        change = map(passmissing(x -> ifelse(abs(x) <= abs(x-360), x, x-360)), change)\n",
    "        change = map(passmissing(x -> ifelse(x <= 180, x + 360, x)), change)\n",
    "    else # unit == \"radian\"\n",
    "        change = angle2 .- angle1\n",
    "        change = map(passmissing(x -> ifelse(x <= -pi, x + 2*pi, ifelse(x >= pi, x - 2*pi, x))), change)\n",
    "    end\n",
    "    return change\n",
    "end\n",
    "\n",
    "function enum_trips_and_find_start(dataframe)   # tested\n",
    "    sort!(dataframe, [:DateTime])\n",
    "    TripId_list = DataFrame(TripId = unique(dataframe.TripId), ID = 1:length(unique(dataframe.TripId)))\n",
    "    dataframe = innerjoin(dataframe, TripId_list, on = :TripId)\n",
    "    dataframe.start = [1; dataframe.ID[2:end] - dataframe.ID[1:(end-1)]]\n",
    "    return dataframe\n",
    "end\n",
    "\n",
    "function enum_hardware_trips_and_find_start(dataframe)   # tested\n",
    "    sort!(dataframe, [:HardwareId, :TripId, :DateTime])\n",
    "    group_df = groupby(dataframe, :HardwareId)\n",
    "    result_df = combine(group_df) do sub_df\n",
    "        enum_trips_and_find_start(sub_df)\n",
    "    end\n",
    "    return result_df\n",
    "end"
   ]
  },
  {
   "cell_type": "code",
   "execution_count": null,
   "metadata": {},
   "outputs": [],
   "source": [
    "df = CSV.read(datadir(\"Splend_Test/Splend_Test_gps.csv\"), DataFrame)\n",
    "df.DateTime = DateTime.(SubString.(df.DateTime, 1, 19), DateFormat(\"yyyy-mm-dd HH:MM:SS\"))\n",
    "#df = enum_hardware_trips_and_find_start(df)"
   ]
  },
  {
   "cell_type": "code",
   "execution_count": 4,
   "metadata": {},
   "outputs": [
    {
     "data": {
      "text/plain": [
       "100-element Vector{DateTime}:\n",
       " 2018-12-18T03:47:17\n",
       " 2022-05-27T02:07:15\n",
       " 2020-01-17T06:34:18\n",
       " 2019-02-13T03:09:00\n",
       " 2019-05-07T01:53:44\n",
       " 2021-12-04T03:32:16\n",
       " 2020-10-14T23:02:56\n",
       " 2019-06-07T01:10:40\n",
       " 2019-04-29T00:48:33\n",
       " 2019-09-02T04:18:57\n",
       " ⋮\n",
       " 2020-01-31T02:36:39\n",
       " 2020-01-02T02:33:16\n",
       " 2019-04-18T01:38:25\n",
       " 2022-09-21T01:13:34\n",
       " 2019-07-11T08:15:26\n",
       " 2020-01-15T05:03:25\n",
       " 2020-02-10T04:17:11\n",
       " 2020-02-11T04:29:49\n",
       " 2019-12-09T22:59:45"
      ]
     },
     "metadata": {},
     "output_type": "display_data"
    }
   ],
   "source": [
    "subject_df = CSV.read(datadir(\"Splend_Test/Splend_Test_subjectdf.csv\"), DataFrame)\n",
    "subject_df.AssignmentStart = DateTime.(SubString.(subject_df.AssignmentStart, 1, 19), DateFormat(\"yyyy-mm-dd HH:MM:SS\"))\n",
    "subject_df.AssignmentEndMod = DateTime.(SubString.(subject_df.AssignmentEndMod, 1, 19), DateFormat(\"yyyy-mm-dd HH:MM:SS\"))"
   ]
  },
  {
   "cell_type": "code",
   "execution_count": null,
   "metadata": {},
   "outputs": [],
   "source": [
    "df = CSV.read(datadir(\"sample-data-1017.csv\"), DataFrame)\n",
    "df.DateTime = DateTime.(SubString.(df.DateTime, 1, 19), DateFormat(\"yyyy-mm-dd HH:MM:SS\"))\n",
    "df = enum_hardware_trips_and_find_start(df)\n",
    "\n",
    "group_df = groupby(df, [:HardwareId, :ID])\n",
    "\n",
    "transform!(group_df, :DateTime => (x -> Dates.value.(convert.(Dates.Second, x .- minimum(x)))) => :time_since)\n",
    "transform!(group_df, :time_since => (x -> x - ShiftedArrays.lag(x)) => :time_interval)\n",
    "df.time_interval = ifelse.(df.start .== 1, missing, df.time_interval)\n",
    "filter!(row -> row.start .== 1 || row.time_interval .> 0, df)    # remove rows with 0 timeinterval first to ensure correct calculation of changes\n",
    "group_df = groupby(df, [:HardwareId, :ID])\n",
    "\n",
    "transform!(group_df, [:Latitude, :Longitude] => ((a,b) -> (find_angle(ShiftedArrays.lag(a), ShiftedArrays.lag(b), a, b))) => :radian)\n",
    "df.radian = ifelse.(df.start .== 1, missing, df.radian)\n",
    "transform!(group_df, :radian => (x -> angle_change(\"radian\", ShiftedArrays.lag(x), x)) => :delta_radian)\n",
    "\n",
    "transform!(group_df, [:Speed, :time_interval] => ((a, b) -> (a - ShiftedArrays.lag(a)) ./ b) => :acceleration)\n",
    "\n",
    "filter_table = combine(groupby(df, [:HardwareId, :ID]), \n",
    "                        nrow => :num_obs,\n",
    "                        :time_since => maximum => :trip_length,\n",
    "                        :time_interval => (x -> minimum(skipmissing(x))) => :min_time_interval,\n",
    "                        :time_interval => (x -> maximum(skipmissing(x))) => :max_time_interval)\n",
    "\n",
    "# Consider trip length at least 180 sec (3 min)\n",
    "# Consider num observations at least 30 for more meaningful evolution\n",
    "id_filter = filter_table[filter_table.trip_length .>= 180 .&& filter_table.num_obs .>= 30, [:HardwareId, :ID]]\n",
    "\n",
    "# Filter the original data\n",
    "# df_longer = filter(row -> row.ID in id_filter, df)\n",
    "df_longer = innerjoin(df, id_filter, on = [:HardwareId, :ID])\n",
    "\n",
    "jldsave(datadir(\"df_longer_1017.jld2\"); df_longer = df_longer)"
   ]
  }
 ],
 "metadata": {
  "kernelspec": {
   "display_name": "Julia 1.9.3",
   "language": "julia",
   "name": "julia-1.9"
  },
  "language_info": {
   "file_extension": ".jl",
   "mimetype": "application/julia",
   "name": "julia",
   "version": "1.9.3"
  }
 },
 "nbformat": 4,
 "nbformat_minor": 2
}
