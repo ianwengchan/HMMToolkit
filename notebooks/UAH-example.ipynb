{
 "cells": [
  {
   "cell_type": "markdown",
   "metadata": {},
   "source": [
    "# Modelling and Analyzing the UAH-DriveSet Using CTHMM\n",
    "\n",
    "## Introduction\n",
    "\n",
    "In this notebook, we illustrate how to leverage the **HMMToolkit** for fitting continuous-time hidden Markov models (CTHMM) and performing anomaly detection using the **UAH-DriveSet**. "
   ]
  },
  {
   "cell_type": "code",
   "execution_count": 1,
   "metadata": {},
   "outputs": [],
   "source": [
    "using DrWatson\n",
    "@quickactivate \"HMMToolkit\"\n",
    "\n",
    "include(srcdir(\"HMMToolkit.jl\"))\n",
    "using CSV, DataFrames, Statistics, Distributions, Random, Base.Threads, StatsBase\n",
    "using .HMMToolkit"
   ]
  },
  {
   "cell_type": "markdown",
   "metadata": {},
   "source": [
    "The following are some helper functions to prepare accelerometer and GPS data, and to combine the two data sources.  Importantly, to use the **HMMToolkit**, each time series must be identified by a unique **ID**."
   ]
  },
  {
   "cell_type": "code",
   "execution_count": 2,
   "metadata": {},
   "outputs": [
    {
     "data": {
      "text/plain": [
       "append_speed (generic function with 1 method)"
      ]
     },
     "metadata": {},
     "output_type": "display_data"
    }
   ],
   "source": [
    "## helper functions to prepare accelerometer and gps data, and combine the two data sources\n",
    "function prepare_accelerometer(folder_name, ID)\n",
    "\n",
    "    pathname = datadir(\"UAH-DriveSet\", folder_name, \"RAW_ACCELEROMETERS.txt\")\n",
    "    df = CSV.read(pathname, DataFrame; delim=' ', header=false)\n",
    "\n",
    "    df = df[:, 1:8]\n",
    "    colnames = [\"Timestamp\", \"System_Activated\", \"X\", \"Y\", \"Z\", \"X_KF\", \"Y_KF\", \"Z_KF\"]\n",
    "    rename!(df, colnames)\n",
    "    df = combine(groupby(df, [:Timestamp]), last)\n",
    "    sort!(df, [:Timestamp])\n",
    "\n",
    "    df.time_since = df.Timestamp .- minimum(df.Timestamp)\n",
    "    df.time_interval = [missing; df.Timestamp[2:end] - df.Timestamp[1:(end-1)]]\n",
    "\n",
    "    df.ID .= ID\n",
    "    df.start .= [1; fill(0, nrow(df) - 1)]\n",
    "\n",
    "    return df\n",
    "\n",
    "end\n",
    "\n",
    "function prepare_gps(folder_name, ID)\n",
    "\n",
    "    pathname = datadir(\"UAH-DriveSet\", folder_name, \"RAW_GPS.txt\")\n",
    "    df = CSV.read(pathname, DataFrame; delim=' ', header=false)\n",
    "\n",
    "    df = df[:, 1:5]\n",
    "    colnames = [\"Timestamp\", \"Speed\", \"Latitude\", \"Longitude\", \"Altitude\"]\n",
    "    rename!(df, colnames)\n",
    "    df = combine(groupby(df, [:Timestamp]), last)\n",
    "    sort!(df, [:Timestamp])\n",
    "\n",
    "    df.ID .= ID\n",
    "    df.start .= [1; fill(0, nrow(df) - 1)]\n",
    "\n",
    "    return df\n",
    "\n",
    "end\n",
    "\n",
    "function append_speed(ts_accelerometer, ts_gps)\n",
    "\n",
    "    idx = [findmin(abs.(ts_accelerometer.Timestamp .- time))[2] for time in ts_gps.Timestamp]\n",
    "    ts = ts_accelerometer[idx, :]\n",
    "    ts.Speed .= ts_gps.Speed\n",
    "    ts = ts[ts.Speed .> 0, :]\n",
    "    ts.start[1] = 1\n",
    "\n",
    "    return ts\n",
    "\n",
    "end"
   ]
  },
  {
   "cell_type": "markdown",
   "metadata": {},
   "source": [
    "For illustration purposes, we only consider one driver, D2.  Extracting his telematics data:"
   ]
  },
  {
   "cell_type": "code",
   "execution_count": 3,
   "metadata": {},
   "outputs": [],
   "source": [
    "df_accel = DataFrame()\n",
    "\n",
    "i = 2  ## only consider driver D2 for illustration purposes\n",
    "begin\n",
    "    folder_name = \"D\" * string(i) * \"-Normal1-Secondary\"\n",
    "    df_i = prepare_accelerometer(folder_name, i)\n",
    "    append!(df_accel, df_i)\n",
    "\n",
    "    folder_name = \"D\" * string(i) * \"-Normal2-Secondary\"\n",
    "    df_i = prepare_accelerometer(folder_name, (i+5))\n",
    "    append!(df_accel, df_i)\n",
    "\n",
    "    folder_name = \"D\" * string(i) * \"-Aggressive-Secondary\"\n",
    "    df_i = prepare_accelerometer(folder_name, (i+10))\n",
    "    append!(df_accel, df_i)\n",
    "\n",
    "    folder_name = \"D\" * string(i) * \"-Drowsy-Secondary\"\n",
    "    df_i = prepare_accelerometer(folder_name, (i+15))\n",
    "    append!(df_accel, df_i)\n",
    "\n",
    "\n",
    "    folder_name = \"D\" * string(i) * \"-Normal-Motorway\"\n",
    "    df_i = prepare_accelerometer(folder_name, (i+20))\n",
    "    append!(df_accel, df_i)\n",
    "\n",
    "    folder_name = \"D\" * string(i) * \"-Aggressive-Motorway\"\n",
    "    df_i = prepare_accelerometer(folder_name, (i+25))\n",
    "    append!(df_accel, df_i)\n",
    "\n",
    "    folder_name = \"D\" * string(i) * \"-Drowsy-Motorway\"\n",
    "    df_i = prepare_accelerometer(folder_name, (i+30))\n",
    "    append!(df_accel, df_i)\n",
    "end\n",
    "\n",
    "\n",
    "df_gps = DataFrame()\n",
    "\n",
    "i = 2  ## only consider driver D2 for illustration purposes\n",
    "begin\n",
    "    folder_name = \"D\" * string(i) * \"-Normal1-Secondary\"\n",
    "    df_i = prepare_gps(folder_name, i)\n",
    "    append!(df_gps, df_i)\n",
    "\n",
    "    folder_name = \"D\" * string(i) * \"-Normal2-Secondary\"\n",
    "    df_i = prepare_gps(folder_name, (i+5))\n",
    "    append!(df_gps, df_i)\n",
    "\n",
    "    folder_name = \"D\" * string(i) * \"-Aggressive-Secondary\"\n",
    "    df_i = prepare_gps(folder_name, (i+10))\n",
    "    append!(df_gps, df_i)\n",
    "\n",
    "    folder_name = \"D\" * string(i) * \"-Drowsy-Secondary\"\n",
    "    df_i = prepare_gps(folder_name, (i+15))\n",
    "    append!(df_gps, df_i)\n",
    "\n",
    "\n",
    "    folder_name = \"D\" * string(i) * \"-Normal-Motorway\"\n",
    "    df_i = prepare_gps(folder_name, (i+20))\n",
    "    append!(df_gps, df_i)\n",
    "\n",
    "    folder_name = \"D\" * string(i) * \"-Aggressive-Motorway\"\n",
    "    df_i = prepare_gps(folder_name, (i+25))\n",
    "    append!(df_gps, df_i)\n",
    "\n",
    "    folder_name = \"D\" * string(i) * \"-Drowsy-Motorway\"\n",
    "    df_i = prepare_gps(folder_name, (i+30))\n",
    "    append!(df_gps, df_i)\n",
    "end\n",
    "\n",
    "group_df_accel = groupby(df_accel, :ID)\n",
    "group_df_gps = groupby(df_gps, :ID)\n",
    "\n",
    "df_sec = DataFrame()\n",
    "\n",
    "## combine the two data sources\n",
    "for i in 1:7\n",
    "\n",
    "    ts_accelerometer = group_df_accel[i]\n",
    "    ts_gps = group_df_gps[i]\n",
    "    ts = append_speed(ts_accelerometer, ts_gps)\n",
    "    append!(df_sec, ts)\n",
    "\n",
    "end\n",
    "\n",
    "group_df = groupby(df_sec, :ID)\n",
    "\n",
    "for i in 1:length(group_df)\n",
    "    group_df[i].time_interval = [missing; fill(0.1, nrow(group_df[i])-1)]\n",
    "end"
   ]
  },
  {
   "cell_type": "markdown",
   "metadata": {},
   "source": [
    "## Model Fitting\n",
    "\n",
    "While there are multiple variables in the dataset, we can specify which responses the model should be fitted on.  Here, we only consider lateral acceleration, longitudinal acceleration and speed."
   ]
  },
  {
   "cell_type": "code",
   "execution_count": 4,
   "metadata": {},
   "outputs": [
    {
     "data": {
      "text/plain": [
       "3-element Vector{String}:\n",
       " \"Y_KF\"\n",
       " \"Z_KF\"\n",
       " \"Speed\""
      ]
     },
     "metadata": {},
     "output_type": "display_data"
    }
   ],
   "source": [
    "response_list = [\"Y_KF\", \"Z_KF\", \"Speed\"]\n",
    "## Y_KF for turning\n",
    "## Z_KF for acceleration and braking"
   ]
  },
  {
   "cell_type": "markdown",
   "metadata": {},
   "source": [
    "We assume all trips performed by D2 follow the same model, and will train a CTHMM on them.  For model fitting, we need to first specify the number of latent states in the CTHMM, and prepare the training set."
   ]
  },
  {
   "cell_type": "code",
   "execution_count": 5,
   "metadata": {},
   "outputs": [
    {
     "data": {
      "text/html": [
       "<div><div style = \"float: left;\"><span>5274×13 DataFrame</span></div><div style = \"float: right;\"><span style = \"font-style: italic;\">5249 rows omitted</span></div><div style = \"clear: both;\"></div></div><div class = \"data-frame\" style = \"overflow-x: scroll;\"><table class = \"data-frame\" style = \"margin-bottom: 6px;\"><thead><tr class = \"header\"><th class = \"rowNumber\" style = \"font-weight: bold; text-align: right;\">Row</th><th style = \"text-align: left;\">Timestamp</th><th style = \"text-align: left;\">System_Activated</th><th style = \"text-align: left;\">X</th><th style = \"text-align: left;\">Y</th><th style = \"text-align: left;\">Z</th><th style = \"text-align: left;\">X_KF</th><th style = \"text-align: left;\">Y_KF</th><th style = \"text-align: left;\">Z_KF</th><th style = \"text-align: left;\">time_since</th><th style = \"text-align: left;\">time_interval</th><th style = \"text-align: left;\">ID</th><th style = \"text-align: left;\">start</th><th style = \"text-align: left;\">Speed</th></tr><tr class = \"subheader headerLastRow\"><th class = \"rowNumber\" style = \"font-weight: bold; text-align: right;\"></th><th title = \"Float64\" style = \"text-align: left;\">Float64</th><th title = \"Int64\" style = \"text-align: left;\">Int64</th><th title = \"Float64\" style = \"text-align: left;\">Float64</th><th title = \"Float64\" style = \"text-align: left;\">Float64</th><th title = \"Float64\" style = \"text-align: left;\">Float64</th><th title = \"Float64\" style = \"text-align: left;\">Float64</th><th title = \"Float64\" style = \"text-align: left;\">Float64</th><th title = \"Float64\" style = \"text-align: left;\">Float64</th><th title = \"Float64\" style = \"text-align: left;\">Float64</th><th title = \"Union{Missing, Float64}\" style = \"text-align: left;\">Float64?</th><th title = \"Int64\" style = \"text-align: left;\">Int64</th><th title = \"Int64\" style = \"text-align: left;\">Int64</th><th title = \"Float64\" style = \"text-align: left;\">Float64</th></tr></thead><tbody><tr><td class = \"rowNumber\" style = \"font-weight: bold; text-align: right;\">1</td><td style = \"text-align: right;\">15.85</td><td style = \"text-align: right;\">1</td><td style = \"text-align: right;\">-0.022</td><td style = \"text-align: right;\">-0.009</td><td style = \"text-align: right;\">-0.015</td><td style = \"text-align: right;\">-0.006</td><td style = \"text-align: right;\">-0.003</td><td style = \"text-align: right;\">-0.004</td><td style = \"text-align: right;\">15.25</td><td style = \"font-style: italic; text-align: right;\">missing</td><td style = \"text-align: right;\">2</td><td style = \"text-align: right;\">1</td><td style = \"text-align: right;\">75.7</td></tr><tr><td class = \"rowNumber\" style = \"font-weight: bold; text-align: right;\">2</td><td style = \"text-align: right;\">16.76</td><td style = \"text-align: right;\">1</td><td style = \"text-align: right;\">-0.009</td><td style = \"text-align: right;\">0.023</td><td style = \"text-align: right;\">-0.01</td><td style = \"text-align: right;\">-0.005</td><td style = \"text-align: right;\">0.014</td><td style = \"text-align: right;\">-0.007</td><td style = \"text-align: right;\">16.16</td><td style = \"text-align: right;\">0.1</td><td style = \"text-align: right;\">2</td><td style = \"text-align: right;\">0</td><td style = \"text-align: right;\">75.8</td></tr><tr><td class = \"rowNumber\" style = \"font-weight: bold; text-align: right;\">3</td><td style = \"text-align: right;\">17.76</td><td style = \"text-align: right;\">1</td><td style = \"text-align: right;\">0.012</td><td style = \"text-align: right;\">0.032</td><td style = \"text-align: right;\">0.005</td><td style = \"text-align: right;\">-0.004</td><td style = \"text-align: right;\">0.035</td><td style = \"text-align: right;\">0.001</td><td style = \"text-align: right;\">17.16</td><td style = \"text-align: right;\">0.1</td><td style = \"text-align: right;\">2</td><td style = \"text-align: right;\">0</td><td style = \"text-align: right;\">77.5</td></tr><tr><td class = \"rowNumber\" style = \"font-weight: bold; text-align: right;\">4</td><td style = \"text-align: right;\">18.76</td><td style = \"text-align: right;\">1</td><td style = \"text-align: right;\">-0.038</td><td style = \"text-align: right;\">0.011</td><td style = \"text-align: right;\">0.003</td><td style = \"text-align: right;\">-0.019</td><td style = \"text-align: right;\">0.004</td><td style = \"text-align: right;\">-0.006</td><td style = \"text-align: right;\">18.16</td><td style = \"text-align: right;\">0.1</td><td style = \"text-align: right;\">2</td><td style = \"text-align: right;\">0</td><td style = \"text-align: right;\">78.9</td></tr><tr><td class = \"rowNumber\" style = \"font-weight: bold; text-align: right;\">5</td><td style = \"text-align: right;\">19.76</td><td style = \"text-align: right;\">1</td><td style = \"text-align: right;\">-0.036</td><td style = \"text-align: right;\">-0.046</td><td style = \"text-align: right;\">0.003</td><td style = \"text-align: right;\">-0.026</td><td style = \"text-align: right;\">-0.029</td><td style = \"text-align: right;\">-0.005</td><td style = \"text-align: right;\">19.16</td><td style = \"text-align: right;\">0.1</td><td style = \"text-align: right;\">2</td><td style = \"text-align: right;\">0</td><td style = \"text-align: right;\">79.3</td></tr><tr><td class = \"rowNumber\" style = \"font-weight: bold; text-align: right;\">6</td><td style = \"text-align: right;\">20.77</td><td style = \"text-align: right;\">1</td><td style = \"text-align: right;\">0.017</td><td style = \"text-align: right;\">0.0</td><td style = \"text-align: right;\">0.016</td><td style = \"text-align: right;\">-0.014</td><td style = \"text-align: right;\">-0.017</td><td style = \"text-align: right;\">0.009</td><td style = \"text-align: right;\">20.17</td><td style = \"text-align: right;\">0.1</td><td style = \"text-align: right;\">2</td><td style = \"text-align: right;\">0</td><td style = \"text-align: right;\">80.2</td></tr><tr><td class = \"rowNumber\" style = \"font-weight: bold; text-align: right;\">7</td><td style = \"text-align: right;\">21.77</td><td style = \"text-align: right;\">1</td><td style = \"text-align: right;\">0.023</td><td style = \"text-align: right;\">0.014</td><td style = \"text-align: right;\">-0.038</td><td style = \"text-align: right;\">0.021</td><td style = \"text-align: right;\">-0.007</td><td style = \"text-align: right;\">-0.017</td><td style = \"text-align: right;\">21.17</td><td style = \"text-align: right;\">0.1</td><td style = \"text-align: right;\">2</td><td style = \"text-align: right;\">0</td><td style = \"text-align: right;\">80.8</td></tr><tr><td class = \"rowNumber\" style = \"font-weight: bold; text-align: right;\">8</td><td style = \"text-align: right;\">22.77</td><td style = \"text-align: right;\">1</td><td style = \"text-align: right;\">0.002</td><td style = \"text-align: right;\">0.03</td><td style = \"text-align: right;\">-0.014</td><td style = \"text-align: right;\">0.017</td><td style = \"text-align: right;\">0.013</td><td style = \"text-align: right;\">-0.008</td><td style = \"text-align: right;\">22.17</td><td style = \"text-align: right;\">0.1</td><td style = \"text-align: right;\">2</td><td style = \"text-align: right;\">0</td><td style = \"text-align: right;\">81.6</td></tr><tr><td class = \"rowNumber\" style = \"font-weight: bold; text-align: right;\">9</td><td style = \"text-align: right;\">23.77</td><td style = \"text-align: right;\">1</td><td style = \"text-align: right;\">0.005</td><td style = \"text-align: right;\">-0.009</td><td style = \"text-align: right;\">-0.006</td><td style = \"text-align: right;\">0.007</td><td style = \"text-align: right;\">-0.002</td><td style = \"text-align: right;\">-0.006</td><td style = \"text-align: right;\">23.17</td><td style = \"text-align: right;\">0.1</td><td style = \"text-align: right;\">2</td><td style = \"text-align: right;\">0</td><td style = \"text-align: right;\">81.5</td></tr><tr><td class = \"rowNumber\" style = \"font-weight: bold; text-align: right;\">10</td><td style = \"text-align: right;\">24.68</td><td style = \"text-align: right;\">1</td><td style = \"text-align: right;\">0.026</td><td style = \"text-align: right;\">0.003</td><td style = \"text-align: right;\">-0.017</td><td style = \"text-align: right;\">0.016</td><td style = \"text-align: right;\">0.003</td><td style = \"text-align: right;\">-0.009</td><td style = \"text-align: right;\">24.08</td><td style = \"text-align: right;\">0.1</td><td style = \"text-align: right;\">2</td><td style = \"text-align: right;\">0</td><td style = \"text-align: right;\">82.5</td></tr><tr><td class = \"rowNumber\" style = \"font-weight: bold; text-align: right;\">11</td><td style = \"text-align: right;\">25.79</td><td style = \"text-align: right;\">1</td><td style = \"text-align: right;\">-0.007</td><td style = \"text-align: right;\">-0.024</td><td style = \"text-align: right;\">-0.008</td><td style = \"text-align: right;\">-0.018</td><td style = \"text-align: right;\">-0.022</td><td style = \"text-align: right;\">0.007</td><td style = \"text-align: right;\">25.19</td><td style = \"text-align: right;\">0.1</td><td style = \"text-align: right;\">2</td><td style = \"text-align: right;\">0</td><td style = \"text-align: right;\">80.9</td></tr><tr><td class = \"rowNumber\" style = \"font-weight: bold; text-align: right;\">12</td><td style = \"text-align: right;\">26.68</td><td style = \"text-align: right;\">1</td><td style = \"text-align: right;\">-0.026</td><td style = \"text-align: right;\">-0.006</td><td style = \"text-align: right;\">-0.014</td><td style = \"text-align: right;\">0.002</td><td style = \"text-align: right;\">-0.0</td><td style = \"text-align: right;\">-0.005</td><td style = \"text-align: right;\">26.08</td><td style = \"text-align: right;\">0.1</td><td style = \"text-align: right;\">2</td><td style = \"text-align: right;\">0</td><td style = \"text-align: right;\">81.8</td></tr><tr><td class = \"rowNumber\" style = \"font-weight: bold; text-align: right;\">13</td><td style = \"text-align: right;\">27.78</td><td style = \"text-align: right;\">1</td><td style = \"text-align: right;\">-0.048</td><td style = \"text-align: right;\">0.029</td><td style = \"text-align: right;\">-0.004</td><td style = \"text-align: right;\">-0.027</td><td style = \"text-align: right;\">0.025</td><td style = \"text-align: right;\">0.007</td><td style = \"text-align: right;\">27.18</td><td style = \"text-align: right;\">0.1</td><td style = \"text-align: right;\">2</td><td style = \"text-align: right;\">0</td><td style = \"text-align: right;\">80.2</td></tr><tr><td style = \"text-align: right;\">&vellip;</td><td style = \"text-align: right;\">&vellip;</td><td style = \"text-align: right;\">&vellip;</td><td style = \"text-align: right;\">&vellip;</td><td style = \"text-align: right;\">&vellip;</td><td style = \"text-align: right;\">&vellip;</td><td style = \"text-align: right;\">&vellip;</td><td style = \"text-align: right;\">&vellip;</td><td style = \"text-align: right;\">&vellip;</td><td style = \"text-align: right;\">&vellip;</td><td style = \"text-align: right;\">&vellip;</td><td style = \"text-align: right;\">&vellip;</td><td style = \"text-align: right;\">&vellip;</td><td style = \"text-align: right;\">&vellip;</td></tr><tr><td class = \"rowNumber\" style = \"font-weight: bold; text-align: right;\">5263</td><td style = \"text-align: right;\">939.77</td><td style = \"text-align: right;\">1</td><td style = \"text-align: right;\">-0.001</td><td style = \"text-align: right;\">-0.04</td><td style = \"text-align: right;\">-0.014</td><td style = \"text-align: right;\">-0.018</td><td style = \"text-align: right;\">-0.034</td><td style = \"text-align: right;\">-0.012</td><td style = \"text-align: right;\">939.23</td><td style = \"text-align: right;\">0.1</td><td style = \"text-align: right;\">32</td><td style = \"text-align: right;\">0</td><td style = \"text-align: right;\">82.0</td></tr><tr><td class = \"rowNumber\" style = \"font-weight: bold; text-align: right;\">5264</td><td style = \"text-align: right;\">940.67</td><td style = \"text-align: right;\">1</td><td style = \"text-align: right;\">-0.017</td><td style = \"text-align: right;\">-0.03</td><td style = \"text-align: right;\">-0.038</td><td style = \"text-align: right;\">-0.02</td><td style = \"text-align: right;\">-0.032</td><td style = \"text-align: right;\">-0.037</td><td style = \"text-align: right;\">940.13</td><td style = \"text-align: right;\">0.1</td><td style = \"text-align: right;\">32</td><td style = \"text-align: right;\">0</td><td style = \"text-align: right;\">82.7</td></tr><tr><td class = \"rowNumber\" style = \"font-weight: bold; text-align: right;\">5265</td><td style = \"text-align: right;\">941.87</td><td style = \"text-align: right;\">1</td><td style = \"text-align: right;\">-0.023</td><td style = \"text-align: right;\">0.013</td><td style = \"text-align: right;\">-0.127</td><td style = \"text-align: right;\">-0.009</td><td style = \"text-align: right;\">0.006</td><td style = \"text-align: right;\">-0.112</td><td style = \"text-align: right;\">941.33</td><td style = \"text-align: right;\">0.1</td><td style = \"text-align: right;\">32</td><td style = \"text-align: right;\">0</td><td style = \"text-align: right;\">73.2</td></tr><tr><td class = \"rowNumber\" style = \"font-weight: bold; text-align: right;\">5266</td><td style = \"text-align: right;\">942.77</td><td style = \"text-align: right;\">1</td><td style = \"text-align: right;\">-0.035</td><td style = \"text-align: right;\">0.036</td><td style = \"text-align: right;\">-0.078</td><td style = \"text-align: right;\">-0.031</td><td style = \"text-align: right;\">0.032</td><td style = \"text-align: right;\">-0.076</td><td style = \"text-align: right;\">942.23</td><td style = \"text-align: right;\">0.1</td><td style = \"text-align: right;\">32</td><td style = \"text-align: right;\">0</td><td style = \"text-align: right;\">73.2</td></tr><tr><td class = \"rowNumber\" style = \"font-weight: bold; text-align: right;\">5267</td><td style = \"text-align: right;\">943.67</td><td style = \"text-align: right;\">1</td><td style = \"text-align: right;\">-0.036</td><td style = \"text-align: right;\">-0.001</td><td style = \"text-align: right;\">0.043</td><td style = \"text-align: right;\">-0.037</td><td style = \"text-align: right;\">0.011</td><td style = \"text-align: right;\">0.044</td><td style = \"text-align: right;\">943.13</td><td style = \"text-align: right;\">0.1</td><td style = \"text-align: right;\">32</td><td style = \"text-align: right;\">0</td><td style = \"text-align: right;\">65.8</td></tr><tr><td class = \"rowNumber\" style = \"font-weight: bold; text-align: right;\">5268</td><td style = \"text-align: right;\">944.68</td><td style = \"text-align: right;\">1</td><td style = \"text-align: right;\">-0.027</td><td style = \"text-align: right;\">-0.031</td><td style = \"text-align: right;\">0.048</td><td style = \"text-align: right;\">-0.021</td><td style = \"text-align: right;\">-0.033</td><td style = \"text-align: right;\">0.098</td><td style = \"text-align: right;\">944.14</td><td style = \"text-align: right;\">0.1</td><td style = \"text-align: right;\">32</td><td style = \"text-align: right;\">0</td><td style = \"text-align: right;\">58.0</td></tr><tr><td class = \"rowNumber\" style = \"font-weight: bold; text-align: right;\">5269</td><td style = \"text-align: right;\">945.68</td><td style = \"text-align: right;\">1</td><td style = \"text-align: right;\">-0.024</td><td style = \"text-align: right;\">-0.031</td><td style = \"text-align: right;\">0.046</td><td style = \"text-align: right;\">-0.027</td><td style = \"text-align: right;\">-0.019</td><td style = \"text-align: right;\">0.048</td><td style = \"text-align: right;\">945.14</td><td style = \"text-align: right;\">0.1</td><td style = \"text-align: right;\">32</td><td style = \"text-align: right;\">0</td><td style = \"text-align: right;\">53.5</td></tr><tr><td class = \"rowNumber\" style = \"font-weight: bold; text-align: right;\">5270</td><td style = \"text-align: right;\">946.89</td><td style = \"text-align: right;\">0</td><td style = \"text-align: right;\">-0.001</td><td style = \"text-align: right;\">-0.031</td><td style = \"text-align: right;\">0.034</td><td style = \"text-align: right;\">-0.018</td><td style = \"text-align: right;\">-0.026</td><td style = \"text-align: right;\">0.031</td><td style = \"text-align: right;\">946.35</td><td style = \"text-align: right;\">0.1</td><td style = \"text-align: right;\">32</td><td style = \"text-align: right;\">0</td><td style = \"text-align: right;\">49.6</td></tr><tr><td class = \"rowNumber\" style = \"font-weight: bold; text-align: right;\">5271</td><td style = \"text-align: right;\">947.69</td><td style = \"text-align: right;\">0</td><td style = \"text-align: right;\">0.008</td><td style = \"text-align: right;\">-0.027</td><td style = \"text-align: right;\">0.001</td><td style = \"text-align: right;\">-0.012</td><td style = \"text-align: right;\">-0.014</td><td style = \"text-align: right;\">0.004</td><td style = \"text-align: right;\">947.15</td><td style = \"text-align: right;\">0.1</td><td style = \"text-align: right;\">32</td><td style = \"text-align: right;\">0</td><td style = \"text-align: right;\">49.6</td></tr><tr><td class = \"rowNumber\" style = \"font-weight: bold; text-align: right;\">5272</td><td style = \"text-align: right;\">948.7</td><td style = \"text-align: right;\">0</td><td style = \"text-align: right;\">-0.022</td><td style = \"text-align: right;\">0.026</td><td style = \"text-align: right;\">0.023</td><td style = \"text-align: right;\">-0.021</td><td style = \"text-align: right;\">0.032</td><td style = \"text-align: right;\">0.022</td><td style = \"text-align: right;\">948.16</td><td style = \"text-align: right;\">0.1</td><td style = \"text-align: right;\">32</td><td style = \"text-align: right;\">0</td><td style = \"text-align: right;\">48.2</td></tr><tr><td class = \"rowNumber\" style = \"font-weight: bold; text-align: right;\">5273</td><td style = \"text-align: right;\">949.69</td><td style = \"text-align: right;\">0</td><td style = \"text-align: right;\">0.008</td><td style = \"text-align: right;\">-0.02</td><td style = \"text-align: right;\">0.021</td><td style = \"text-align: right;\">-0.005</td><td style = \"text-align: right;\">-0.0</td><td style = \"text-align: right;\">0.024</td><td style = \"text-align: right;\">949.15</td><td style = \"text-align: right;\">0.1</td><td style = \"text-align: right;\">32</td><td style = \"text-align: right;\">0</td><td style = \"text-align: right;\">46.9</td></tr><tr><td class = \"rowNumber\" style = \"font-weight: bold; text-align: right;\">5274</td><td style = \"text-align: right;\">950.69</td><td style = \"text-align: right;\">0</td><td style = \"text-align: right;\">-0.027</td><td style = \"text-align: right;\">0.015</td><td style = \"text-align: right;\">-0.043</td><td style = \"text-align: right;\">-0.007</td><td style = \"text-align: right;\">0.017</td><td style = \"text-align: right;\">-0.025</td><td style = \"text-align: right;\">950.15</td><td style = \"text-align: right;\">0.1</td><td style = \"text-align: right;\">32</td><td style = \"text-align: right;\">0</td><td style = \"text-align: right;\">46.6</td></tr></tbody></table></div>"
      ],
      "text/latex": [
       "\\begin{tabular}{r|ccccccccc}\n",
       "\t& Timestamp & System\\_Activated & X & Y & Z & X\\_KF & Y\\_KF & Z\\_KF & \\\\\n",
       "\t\\hline\n",
       "\t& Float64 & Int64 & Float64 & Float64 & Float64 & Float64 & Float64 & Float64 & \\\\\n",
       "\t\\hline\n",
       "\t1 & 15.85 & 1 & -0.022 & -0.009 & -0.015 & -0.006 & -0.003 & -0.004 & $\\dots$ \\\\\n",
       "\t2 & 16.76 & 1 & -0.009 & 0.023 & -0.01 & -0.005 & 0.014 & -0.007 & $\\dots$ \\\\\n",
       "\t3 & 17.76 & 1 & 0.012 & 0.032 & 0.005 & -0.004 & 0.035 & 0.001 & $\\dots$ \\\\\n",
       "\t4 & 18.76 & 1 & -0.038 & 0.011 & 0.003 & -0.019 & 0.004 & -0.006 & $\\dots$ \\\\\n",
       "\t5 & 19.76 & 1 & -0.036 & -0.046 & 0.003 & -0.026 & -0.029 & -0.005 & $\\dots$ \\\\\n",
       "\t6 & 20.77 & 1 & 0.017 & 0.0 & 0.016 & -0.014 & -0.017 & 0.009 & $\\dots$ \\\\\n",
       "\t7 & 21.77 & 1 & 0.023 & 0.014 & -0.038 & 0.021 & -0.007 & -0.017 & $\\dots$ \\\\\n",
       "\t8 & 22.77 & 1 & 0.002 & 0.03 & -0.014 & 0.017 & 0.013 & -0.008 & $\\dots$ \\\\\n",
       "\t9 & 23.77 & 1 & 0.005 & -0.009 & -0.006 & 0.007 & -0.002 & -0.006 & $\\dots$ \\\\\n",
       "\t10 & 24.68 & 1 & 0.026 & 0.003 & -0.017 & 0.016 & 0.003 & -0.009 & $\\dots$ \\\\\n",
       "\t11 & 25.79 & 1 & -0.007 & -0.024 & -0.008 & -0.018 & -0.022 & 0.007 & $\\dots$ \\\\\n",
       "\t12 & 26.68 & 1 & -0.026 & -0.006 & -0.014 & 0.002 & -0.0 & -0.005 & $\\dots$ \\\\\n",
       "\t13 & 27.78 & 1 & -0.048 & 0.029 & -0.004 & -0.027 & 0.025 & 0.007 & $\\dots$ \\\\\n",
       "\t14 & 28.69 & 1 & -0.004 & -0.012 & 0.028 & 0.003 & -0.025 & 0.018 & $\\dots$ \\\\\n",
       "\t15 & 29.69 & 1 & 0.026 & 0.016 & 0.061 & -0.036 & 0.003 & 0.027 & $\\dots$ \\\\\n",
       "\t16 & 30.69 & 1 & -0.037 & 0.004 & -0.009 & -0.046 & -0.002 & -0.009 & $\\dots$ \\\\\n",
       "\t17 & 31.69 & 1 & 0.021 & -0.027 & -0.031 & 0.065 & -0.008 & -0.027 & $\\dots$ \\\\\n",
       "\t18 & 32.71 & 1 & -0.027 & 0.007 & -0.012 & -0.027 & -0.001 & -0.022 & $\\dots$ \\\\\n",
       "\t19 & 33.7 & 1 & 0.008 & -0.026 & -0.006 & 0.0 & -0.01 & 0.002 & $\\dots$ \\\\\n",
       "\t20 & 34.7 & 1 & -0.078 & 0.013 & -0.022 & -0.072 & 0.007 & -0.033 & $\\dots$ \\\\\n",
       "\t21 & 35.71 & 1 & 0.063 & 0.027 & -0.014 & 0.048 & 0.009 & -0.007 & $\\dots$ \\\\\n",
       "\t22 & 36.71 & 1 & -0.01 & 0.031 & -0.002 & 0.006 & -0.003 & -0.0 & $\\dots$ \\\\\n",
       "\t23 & 37.71 & 1 & -0.032 & 0.012 & 0.031 & -0.023 & 0.019 & 0.018 & $\\dots$ \\\\\n",
       "\t24 & 38.71 & 1 & 0.002 & -0.012 & 0.024 & -0.016 & -0.005 & 0.008 & $\\dots$ \\\\\n",
       "\t$\\dots$ & $\\dots$ & $\\dots$ & $\\dots$ & $\\dots$ & $\\dots$ & $\\dots$ & $\\dots$ & $\\dots$ &  \\\\\n",
       "\\end{tabular}\n"
      ],
      "text/plain": [
       "\u001b[1m5274×13 DataFrame\u001b[0m\n",
       "\u001b[1m  Row \u001b[0m│\u001b[1m Timestamp \u001b[0m\u001b[1m System_Activated \u001b[0m\u001b[1m X       \u001b[0m\u001b[1m Y       \u001b[0m\u001b[1m Z       \u001b[0m\u001b[1m X_KF    \u001b[0m\u001b[1m Y_KF \u001b[0m ⋯\n",
       "      │\u001b[90m Float64   \u001b[0m\u001b[90m Int64            \u001b[0m\u001b[90m Float64 \u001b[0m\u001b[90m Float64 \u001b[0m\u001b[90m Float64 \u001b[0m\u001b[90m Float64 \u001b[0m\u001b[90m Float\u001b[0m ⋯\n",
       "──────┼─────────────────────────────────────────────────────────────────────────\n",
       "    1 │     15.85                 1   -0.022   -0.009   -0.015   -0.006   -0.0 ⋯\n",
       "    2 │     16.76                 1   -0.009    0.023   -0.01    -0.005    0.0\n",
       "    3 │     17.76                 1    0.012    0.032    0.005   -0.004    0.0\n",
       "    4 │     18.76                 1   -0.038    0.011    0.003   -0.019    0.0\n",
       "    5 │     19.76                 1   -0.036   -0.046    0.003   -0.026   -0.0 ⋯\n",
       "    6 │     20.77                 1    0.017    0.0      0.016   -0.014   -0.0\n",
       "    7 │     21.77                 1    0.023    0.014   -0.038    0.021   -0.0\n",
       "    8 │     22.77                 1    0.002    0.03    -0.014    0.017    0.0\n",
       "  ⋮   │     ⋮             ⋮             ⋮        ⋮        ⋮        ⋮        ⋮  ⋱\n",
       " 5268 │    944.68                 1   -0.027   -0.031    0.048   -0.021   -0.0 ⋯\n",
       " 5269 │    945.68                 1   -0.024   -0.031    0.046   -0.027   -0.0\n",
       " 5270 │    946.89                 0   -0.001   -0.031    0.034   -0.018   -0.0\n",
       " 5271 │    947.69                 0    0.008   -0.027    0.001   -0.012   -0.0\n",
       " 5272 │    948.7                  0   -0.022    0.026    0.023   -0.021    0.0 ⋯\n",
       " 5273 │    949.69                 0    0.008   -0.02     0.021   -0.005   -0.0\n",
       " 5274 │    950.69                 0   -0.027    0.015   -0.043   -0.007    0.0\n",
       "\u001b[36m                                                 7 columns and 5259 rows omitted\u001b[0m"
      ]
     },
     "metadata": {},
     "output_type": "display_data"
    }
   ],
   "source": [
    "i = 2  ## only consider driver D2 for illustration purposes\n",
    "\n",
    "num_state = 20\n",
    "\n",
    "filter_idx = [element in [i, i+5, i+10, i+15, i+20, i+25, i+30] for element in df_sec.ID]  # train with all trips from driver D2\n",
    "train_set = df_sec[filter_idx, :]"
   ]
  },
  {
   "cell_type": "markdown",
   "metadata": {},
   "source": [
    "Users can specify their own initial guess for parameters in the CTHMM.  Alternatively, the **HMMToolkit** includes functions to provide initial parameter estimates using the Clustered Method of Moments (CMM)."
   ]
  },
  {
   "cell_type": "code",
   "execution_count": 6,
   "metadata": {},
   "outputs": [
    {
     "data": {
      "text/plain": [
       "3×20 Matrix{Main.HMMToolkit.AnyExpert{s, Main.HMMToolkit.NonZI, Distribution{Univariate, Continuous}} where s<:Main.HMMToolkit.ExpertSupport}:\n",
       " NormalExpert{Float64}(0.00222115, 0.0156616)    …  NormalExpert{Float64}(0.00186885, 0.0144923)\n",
       " NormalExpert{Float64}(-0.000548077, 0.0164689)     NormalExpert{Float64}(0.0050765, 0.0200232)\n",
       " GammaExpert{Float64}(68.1276, 0.979934)            GammaExpert{Float64}(314.624, 0.404994)"
      ]
     },
     "metadata": {},
     "output_type": "display_data"
    }
   ],
   "source": [
    "Random.seed!(1234)  ## for reproducibility\n",
    "block_size = nothing  ## transition matrix not a block matrix; all states can communicate\n",
    "model_init = CTHMM_cmm_init(train_set[:, response_list], num_state, [\"real\", \"real\", \"continuous\"];\n",
    "                                block_size = block_size, n_random = 0)\n",
    "## specify the data type of each response dimension\n",
    "\n",
    "π_list_init = model_init.π_list_init\n",
    "Q_mat_init = model_init.Q_mat_init\n",
    "state_list_init = vcat(vcat([hcat([model_init.params_init[1][j][2] for j in 1:num_state]...) for d in 1:1]...),\n",
    "                        vcat([hcat([model_init.params_init[2][j][2] for j in 1:num_state]...) for d in 1:1]...),\n",
    "                        vcat([hcat([model_init.params_init[3][j][1] for j in 1:num_state]...) for d in 1:1]...))\n",
    "## taking Normal for both acceleration components and Gamma for speed"
   ]
  },
  {
   "cell_type": "markdown",
   "metadata": {},
   "source": [
    "Now we are ready for model fitting; printing steps for every 10th iteration:"
   ]
  },
  {
   "cell_type": "code",
   "execution_count": 7,
   "metadata": {},
   "outputs": [
    {
     "name": "stderr",
     "output_type": "stream",
     "text": [
      "┌ Info: Iteration 10, updating π_list: 10301.019835088207 ->  10301.019838422633, ( + 3.236986151672067e-8 % )\n",
      "└ @ Main.HMMToolkit c:\\Users\\ianwe\\OneDrive\\Documents\\GitHub\\HMMToolkit\\src\\CTHMM-learn-EM.jl:93\n",
      "┌ Info: Iteration 10 sub 1, updating Q: 10301.019838422633 ->  10334.198836120855, ( + 0.3220942995805588 % )\n",
      "└ @ Main.HMMToolkit c:\\Users\\ianwe\\OneDrive\\Documents\\GitHub\\HMMToolkit\\src\\CTHMM-learn-EM.jl:122\n",
      "┌ Info: Iteration 10, updating dim 1: 10334.198836120855 ->  10359.25452299347, ( + 0.24245408153980838 % )\n",
      "└ @ Main.HMMToolkit c:\\Users\\ianwe\\OneDrive\\Documents\\GitHub\\HMMToolkit\\src\\CTHMM-learn-EM.jl:147\n",
      "┌ Info: Iteration 10, updating dim 2: 10359.25452299347 ->  10367.659091545025, ( + 0.0811310170331357 % )\n",
      "└ @ Main.HMMToolkit c:\\Users\\ianwe\\OneDrive\\Documents\\GitHub\\HMMToolkit\\src\\CTHMM-learn-EM.jl:147\n",
      "┌ Info: Iteration 10, updating dim 3: 10367.659091545025 ->  10423.776592651653, ( + 0.541274559773986 % )\n",
      "└ @ Main.HMMToolkit c:\\Users\\ianwe\\OneDrive\\Documents\\GitHub\\HMMToolkit\\src\\CTHMM-learn-EM.jl:147\n",
      "┌ Info: Iteration 20, updating π_list: 11135.695592777864 ->  11135.697735063986, ( + 1.9238009021649365e-5 % )\n",
      "└ @ Main.HMMToolkit c:\\Users\\ianwe\\OneDrive\\Documents\\GitHub\\HMMToolkit\\src\\CTHMM-learn-EM.jl:93\n",
      "┌ Info: Iteration 20 sub 1, updating Q: 11135.697735063986 ->  11144.74252409911, ( + 0.08122337055399875 % )\n",
      "└ @ Main.HMMToolkit c:\\Users\\ianwe\\OneDrive\\Documents\\GitHub\\HMMToolkit\\src\\CTHMM-learn-EM.jl:122\n",
      "┌ Info: Iteration 20, updating dim 1: 11144.74252409911 ->  11147.979975334656, ( + 0.02904913441064131 % )\n",
      "└ @ Main.HMMToolkit c:\\Users\\ianwe\\OneDrive\\Documents\\GitHub\\HMMToolkit\\src\\CTHMM-learn-EM.jl:147\n",
      "┌ Info: Iteration 20, updating dim 2: 11147.979975334656 ->  11155.039525914008, ( + 0.06332582759362002 % )\n",
      "└ @ Main.HMMToolkit c:\\Users\\ianwe\\OneDrive\\Documents\\GitHub\\HMMToolkit\\src\\CTHMM-learn-EM.jl:147\n",
      "┌ Info: Iteration 20, updating dim 3: 11155.039525914008 ->  11175.802667342592, ( + 0.18613238779073724 % )\n",
      "└ @ Main.HMMToolkit c:\\Users\\ianwe\\OneDrive\\Documents\\GitHub\\HMMToolkit\\src\\CTHMM-learn-EM.jl:147\n",
      "┌ Info: Iteration 30, updating π_list: 11350.435136671855 ->  11350.435177617594, ( + 3.607415784603038e-7 % )\n",
      "└ @ Main.HMMToolkit c:\\Users\\ianwe\\OneDrive\\Documents\\GitHub\\HMMToolkit\\src\\CTHMM-learn-EM.jl:93\n",
      "┌ Info: Iteration 30 sub 1, updating Q: 11350.435177617594 ->  11357.7266753761, ( + 0.06423980794044291 % )\n",
      "└ @ Main.HMMToolkit c:\\Users\\ianwe\\OneDrive\\Documents\\GitHub\\HMMToolkit\\src\\CTHMM-learn-EM.jl:122\n",
      "┌ Info: Iteration 30, updating dim 1: 11357.7266753761 ->  11362.774613430956, ( + 0.044444968602747506 % )\n",
      "└ @ Main.HMMToolkit c:\\Users\\ianwe\\OneDrive\\Documents\\GitHub\\HMMToolkit\\src\\CTHMM-learn-EM.jl:147\n",
      "┌ Info: Iteration 30, updating dim 2: 11362.774613430956 ->  11368.279592732244, ( + 0.048447491819301906 % )\n",
      "└ @ Main.HMMToolkit c:\\Users\\ianwe\\OneDrive\\Documents\\GitHub\\HMMToolkit\\src\\CTHMM-learn-EM.jl:147\n",
      "┌ Info: Iteration 30, updating dim 3: 11368.279592732244 ->  11376.886746468865, ( + 0.0757120166372682 % )\n",
      "└ @ Main.HMMToolkit c:\\Users\\ianwe\\OneDrive\\Documents\\GitHub\\HMMToolkit\\src\\CTHMM-learn-EM.jl:147\n",
      "┌ Info: Iteration 40, updating π_list: 11472.86260088151 ->  11472.862642603162, ( + 3.636551216771485e-7 % )\n",
      "└ @ Main.HMMToolkit c:\\Users\\ianwe\\OneDrive\\Documents\\GitHub\\HMMToolkit\\src\\CTHMM-learn-EM.jl:93\n",
      "┌ Info: Iteration 40 sub 1, updating Q: 11472.862642603162 ->  11474.032386028211, ( + 0.010195741564144446 % )\n",
      "└ @ Main.HMMToolkit c:\\Users\\ianwe\\OneDrive\\Documents\\GitHub\\HMMToolkit\\src\\CTHMM-learn-EM.jl:122\n",
      "┌ Info: Iteration 40, updating dim 1: 11474.032386028211 ->  11474.271915676578, ( + 0.002087580375475624 % )\n",
      "└ @ Main.HMMToolkit c:\\Users\\ianwe\\OneDrive\\Documents\\GitHub\\HMMToolkit\\src\\CTHMM-learn-EM.jl:147\n",
      "┌ Info: Iteration 40, updating dim 2: 11474.271915676578 ->  11474.878600622238, ( + 0.005287350257329073 % )\n",
      "└ @ Main.HMMToolkit c:\\Users\\ianwe\\OneDrive\\Documents\\GitHub\\HMMToolkit\\src\\CTHMM-learn-EM.jl:147\n",
      "┌ Info: Iteration 40, updating dim 3: 11474.878600622238 ->  11476.904800299606, ( + 0.017657700337309363 % )\n",
      "└ @ Main.HMMToolkit c:\\Users\\ianwe\\OneDrive\\Documents\\GitHub\\HMMToolkit\\src\\CTHMM-learn-EM.jl:147\n",
      "┌ Info: Iteration 50, updating π_list: 11505.34843994126 ->  11505.348467448752, ( + 2.3908439432087217e-7 % )\n",
      "└ @ Main.HMMToolkit c:\\Users\\ianwe\\OneDrive\\Documents\\GitHub\\HMMToolkit\\src\\CTHMM-learn-EM.jl:93\n",
      "┌ Info: Iteration 50 sub 1, updating Q: 11505.348467448752 ->  11505.996509309536, ( + 0.005632527016611606 % )\n",
      "└ @ Main.HMMToolkit c:\\Users\\ianwe\\OneDrive\\Documents\\GitHub\\HMMToolkit\\src\\CTHMM-learn-EM.jl:122\n",
      "┌ Info: Iteration 50, updating dim 1: 11505.996509309536 ->  11506.015301354233, ( + 0.00016332392141576703 % )\n",
      "└ @ Main.HMMToolkit c:\\Users\\ianwe\\OneDrive\\Documents\\GitHub\\HMMToolkit\\src\\CTHMM-learn-EM.jl:147\n",
      "┌ Info: Iteration 50, updating dim 2: 11506.015301354233 ->  11506.135496122457, ( + 0.0010446254856773549 % )\n",
      "└ @ Main.HMMToolkit c:\\Users\\ianwe\\OneDrive\\Documents\\GitHub\\HMMToolkit\\src\\CTHMM-learn-EM.jl:147\n",
      "┌ Info: Iteration 50, updating dim 3: 11506.135496122457 ->  11506.674934332093, ( + 0.004688265750201623 % )\n",
      "└ @ Main.HMMToolkit c:\\Users\\ianwe\\OneDrive\\Documents\\GitHub\\HMMToolkit\\src\\CTHMM-learn-EM.jl:147\n",
      "┌ Info: Iteration 60, updating π_list: 11513.0703056263 ->  11513.070305667234, ( + 3.555484023874304e-10 % )\n",
      "└ @ Main.HMMToolkit c:\\Users\\ianwe\\OneDrive\\Documents\\GitHub\\HMMToolkit\\src\\CTHMM-learn-EM.jl:93\n",
      "┌ Info: Iteration 60 sub 1, updating Q: 11513.070305667234 ->  11513.231420410002, ( + 0.0013994072692242387 % )\n",
      "└ @ Main.HMMToolkit c:\\Users\\ianwe\\OneDrive\\Documents\\GitHub\\HMMToolkit\\src\\CTHMM-learn-EM.jl:122\n",
      "┌ Info: Iteration 60, updating dim 1: 11513.231420410002 ->  11513.244190746107, ( + 0.00011091878238729133 % )\n",
      "└ @ Main.HMMToolkit c:\\Users\\ianwe\\OneDrive\\Documents\\GitHub\\HMMToolkit\\src\\CTHMM-learn-EM.jl:147\n",
      "┌ Info: Iteration 60, updating dim 2: 11513.244190746107 ->  11513.25683401409, ( + 0.00010981499022492317 % )\n",
      "└ @ Main.HMMToolkit c:\\Users\\ianwe\\OneDrive\\Documents\\GitHub\\HMMToolkit\\src\\CTHMM-learn-EM.jl:147\n",
      "┌ Info: Iteration 60, updating dim 3: 11513.25683401409 ->  11513.417226543364, ( + 0.0013931117110225902 % )\n",
      "└ @ Main.HMMToolkit c:\\Users\\ianwe\\OneDrive\\Documents\\GitHub\\HMMToolkit\\src\\CTHMM-learn-EM.jl:147\n",
      "┌ Info: Iteration 70, updating π_list: 11515.336182693913 ->  11515.336182843246, ( + 1.2968233900746515e-9 % )\n",
      "└ @ Main.HMMToolkit c:\\Users\\ianwe\\OneDrive\\Documents\\GitHub\\HMMToolkit\\src\\CTHMM-learn-EM.jl:93\n",
      "┌ Info: Iteration 70 sub 1, updating Q: 11515.336182843246 ->  11515.38169527186, ( + 0.0003952331733253119 % )\n",
      "└ @ Main.HMMToolkit c:\\Users\\ianwe\\OneDrive\\Documents\\GitHub\\HMMToolkit\\src\\CTHMM-learn-EM.jl:122\n",
      "┌ Info: Iteration 70, updating dim 1: 11515.38169527186 ->  11515.383619526903, ( + 1.671030186743992e-5 % )\n",
      "└ @ Main.HMMToolkit c:\\Users\\ianwe\\OneDrive\\Documents\\GitHub\\HMMToolkit\\src\\CTHMM-learn-EM.jl:147\n",
      "┌ Info: Iteration 70, updating dim 2: 11515.383619526903 ->  11515.397735252769, ( + 0.0001225814643457745 % )\n",
      "└ @ Main.HMMToolkit c:\\Users\\ianwe\\OneDrive\\Documents\\GitHub\\HMMToolkit\\src\\CTHMM-learn-EM.jl:147\n",
      "┌ Info: Iteration 70, updating dim 3: 11515.397735252769 ->  11515.486210171324, ( + 0.0007683183906394081 % )\n",
      "└ @ Main.HMMToolkit c:\\Users\\ianwe\\OneDrive\\Documents\\GitHub\\HMMToolkit\\src\\CTHMM-learn-EM.jl:147\n",
      "┌ Info: Iteration 80, updating π_list: 11517.978039853044 ->  11517.978065612118, ( + 2.2364233089657502e-7 % )\n",
      "└ @ Main.HMMToolkit c:\\Users\\ianwe\\OneDrive\\Documents\\GitHub\\HMMToolkit\\src\\CTHMM-learn-EM.jl:93\n",
      "┌ Info: Iteration 80 sub 1, updating Q: 11517.978065612118 ->  11518.065356245903, ( + 0.0007578642126878036 % )\n",
      "└ @ Main.HMMToolkit c:\\Users\\ianwe\\OneDrive\\Documents\\GitHub\\HMMToolkit\\src\\CTHMM-learn-EM.jl:122\n",
      "┌ Info: Iteration 80, updating dim 1: 11518.065356245903 ->  11518.080829999144, ( + 0.00013434333599067776 % )\n",
      "└ @ Main.HMMToolkit c:\\Users\\ianwe\\OneDrive\\Documents\\GitHub\\HMMToolkit\\src\\CTHMM-learn-EM.jl:147\n",
      "┌ Info: Iteration 80, updating dim 2: 11518.080829999144 ->  11518.148940569341, ( + 0.0005913361019272778 % )\n",
      "└ @ Main.HMMToolkit c:\\Users\\ianwe\\OneDrive\\Documents\\GitHub\\HMMToolkit\\src\\CTHMM-learn-EM.jl:147\n",
      "┌ Info: Iteration 80, updating dim 3: 11518.148940569341 ->  11518.409584035926, ( + 0.002262893698716735 % )\n",
      "└ @ Main.HMMToolkit c:\\Users\\ianwe\\OneDrive\\Documents\\GitHub\\HMMToolkit\\src\\CTHMM-learn-EM.jl:147\n",
      "┌ Info: Iteration 90, updating π_list: 11521.172616092623 ->  11521.172688924285, ( + 6.321549474067117e-7 % )\n",
      "└ @ Main.HMMToolkit c:\\Users\\ianwe\\OneDrive\\Documents\\GitHub\\HMMToolkit\\src\\CTHMM-learn-EM.jl:93\n",
      "┌ Info: Iteration 90 sub 1, updating Q: 11521.172688924285 ->  11521.26268493505, ( + 0.0007811358547893829 % )\n",
      "└ @ Main.HMMToolkit c:\\Users\\ianwe\\OneDrive\\Documents\\GitHub\\HMMToolkit\\src\\CTHMM-learn-EM.jl:122\n",
      "┌ Info: Iteration 90, updating dim 1: 11521.26268493505 ->  11521.265603991587, ( + 2.533625537677542e-5 % )\n",
      "└ @ Main.HMMToolkit c:\\Users\\ianwe\\OneDrive\\Documents\\GitHub\\HMMToolkit\\src\\CTHMM-learn-EM.jl:147\n",
      "┌ Info: Iteration 90, updating dim 2: 11521.265603991587 ->  11521.2766867395, ( + 9.619384097100844e-5 % )\n",
      "└ @ Main.HMMToolkit c:\\Users\\ianwe\\OneDrive\\Documents\\GitHub\\HMMToolkit\\src\\CTHMM-learn-EM.jl:147\n",
      "┌ Info: Iteration 90, updating dim 3: 11521.2766867395 ->  11521.318575470363, ( + 0.00036357716250858625 % )\n",
      "└ @ Main.HMMToolkit c:\\Users\\ianwe\\OneDrive\\Documents\\GitHub\\HMMToolkit\\src\\CTHMM-learn-EM.jl:147\n",
      "┌ Info: Iteration 100, updating π_list: 11522.202516778445 ->  11522.20252714102, ( + 8.993571543391054e-8 % )\n",
      "└ @ Main.HMMToolkit c:\\Users\\ianwe\\OneDrive\\Documents\\GitHub\\HMMToolkit\\src\\CTHMM-learn-EM.jl:93\n",
      "┌ Info: Iteration 100 sub 1, updating Q: 11522.20252714102 ->  11522.246625570899, ( + 0.0003827256965372361 % )\n",
      "└ @ Main.HMMToolkit c:\\Users\\ianwe\\OneDrive\\Documents\\GitHub\\HMMToolkit\\src\\CTHMM-learn-EM.jl:122\n",
      "┌ Info: Iteration 100, updating dim 1: 11522.246625570899 ->  11522.24712702242, ( + 4.352029054743811e-6 % )\n",
      "└ @ Main.HMMToolkit c:\\Users\\ianwe\\OneDrive\\Documents\\GitHub\\HMMToolkit\\src\\CTHMM-learn-EM.jl:147\n",
      "┌ Info: Iteration 100, updating dim 2: 11522.24712702242 ->  11522.25713892227, ( + 8.689190346598152e-5 % )\n",
      "└ @ Main.HMMToolkit c:\\Users\\ianwe\\OneDrive\\Documents\\GitHub\\HMMToolkit\\src\\CTHMM-learn-EM.jl:147\n",
      "┌ Info: Iteration 100, updating dim 3: 11522.25713892227 ->  11522.293771995415, ( + 0.00031793313326748885 % )\n",
      "└ @ Main.HMMToolkit c:\\Users\\ianwe\\OneDrive\\Documents\\GitHub\\HMMToolkit\\src\\CTHMM-learn-EM.jl:147\n",
      "┌ Info: Iteration 110, updating π_list: 11523.819564630823 ->  11523.819567549484, ( + 2.532720379800922e-8 % )\n",
      "└ @ Main.HMMToolkit c:\\Users\\ianwe\\OneDrive\\Documents\\GitHub\\HMMToolkit\\src\\CTHMM-learn-EM.jl:93\n",
      "┌ Info: Iteration 110 sub 1, updating Q: 11523.819567549484 ->  11523.935570023157, ( + 0.001006632158658892 % )\n",
      "└ @ Main.HMMToolkit c:\\Users\\ianwe\\OneDrive\\Documents\\GitHub\\HMMToolkit\\src\\CTHMM-learn-EM.jl:122\n",
      "┌ Info: Iteration 110, updating dim 1: 11523.935570023157 ->  11523.943083012504, ( + 6.519464900684024e-5 % )\n",
      "└ @ Main.HMMToolkit c:\\Users\\ianwe\\OneDrive\\Documents\\GitHub\\HMMToolkit\\src\\CTHMM-learn-EM.jl:147\n",
      "┌ Info: Iteration 110, updating dim 2: 11523.943083012504 ->  11524.203926230377, ( + 0.00226348929350082 % )\n",
      "└ @ Main.HMMToolkit c:\\Users\\ianwe\\OneDrive\\Documents\\GitHub\\HMMToolkit\\src\\CTHMM-learn-EM.jl:147\n",
      "┌ Info: Iteration 110, updating dim 3: 11524.203926230377 ->  11524.466604069943, ( + 0.002279357786859453 % )\n",
      "└ @ Main.HMMToolkit c:\\Users\\ianwe\\OneDrive\\Documents\\GitHub\\HMMToolkit\\src\\CTHMM-learn-EM.jl:147\n",
      "┌ Info: Iteration 120, updating π_list: 11623.23411507123 ->  11623.237041409848, ( + 2.5176629754375805e-5 % )\n",
      "└ @ Main.HMMToolkit c:\\Users\\ianwe\\OneDrive\\Documents\\GitHub\\HMMToolkit\\src\\CTHMM-learn-EM.jl:93\n",
      "┌ Info: Iteration 120 sub 1, updating Q: 11623.237041409848 ->  11624.523066126856, ( + 0.011064256131288036 % )\n",
      "└ @ Main.HMMToolkit c:\\Users\\ianwe\\OneDrive\\Documents\\GitHub\\HMMToolkit\\src\\CTHMM-learn-EM.jl:122\n",
      "┌ Info: Iteration 120, updating dim 1: 11624.523066126856 ->  11624.5816690892, ( + 0.0005041321868538354 % )\n",
      "└ @ Main.HMMToolkit c:\\Users\\ianwe\\OneDrive\\Documents\\GitHub\\HMMToolkit\\src\\CTHMM-learn-EM.jl:147\n",
      "┌ Info: Iteration 120, updating dim 2: 11624.5816690892 ->  11624.889029535067, ( + 0.002644055972209508 % )\n",
      "└ @ Main.HMMToolkit c:\\Users\\ianwe\\OneDrive\\Documents\\GitHub\\HMMToolkit\\src\\CTHMM-learn-EM.jl:147\n",
      "┌ Info: Iteration 120, updating dim 3: 11624.889029535067 ->  11626.108302424364, ( + 0.010488469061503648 % )\n",
      "└ @ Main.HMMToolkit c:\\Users\\ianwe\\OneDrive\\Documents\\GitHub\\HMMToolkit\\src\\CTHMM-learn-EM.jl:147\n",
      "┌ Info: Iteration 130, updating π_list: 11641.235602045243 ->  11641.235703405266, ( + 8.706981507289621e-7 % )\n",
      "└ @ Main.HMMToolkit c:\\Users\\ianwe\\OneDrive\\Documents\\GitHub\\HMMToolkit\\src\\CTHMM-learn-EM.jl:93\n",
      "┌ Info: Iteration 130 sub 1, updating Q: 11641.235703405266 ->  11641.666630651951, ( + 0.0037017311363196667 % )\n",
      "└ @ Main.HMMToolkit c:\\Users\\ianwe\\OneDrive\\Documents\\GitHub\\HMMToolkit\\src\\CTHMM-learn-EM.jl:122\n",
      "┌ Info: Iteration 130, updating dim 1: 11641.666630651951 ->  11641.78476701053, ( + 0.0010147718735330625 % )\n",
      "└ @ Main.HMMToolkit c:\\Users\\ianwe\\OneDrive\\Documents\\GitHub\\HMMToolkit\\src\\CTHMM-learn-EM.jl:147\n",
      "┌ Info: Iteration 130, updating dim 2: 11641.78476701053 ->  11641.974675882775, ( + 0.0016312693976603205 % )\n",
      "└ @ Main.HMMToolkit c:\\Users\\ianwe\\OneDrive\\Documents\\GitHub\\HMMToolkit\\src\\CTHMM-learn-EM.jl:147\n",
      "┌ Info: Iteration 130, updating dim 3: 11641.974675882775 ->  11642.300297482363, ( + 0.00279696193002829 % )\n",
      "└ @ Main.HMMToolkit c:\\Users\\ianwe\\OneDrive\\Documents\\GitHub\\HMMToolkit\\src\\CTHMM-learn-EM.jl:147\n",
      "┌ Info: Iteration 140, updating π_list: 11650.093684097468 ->  11650.093691816466, ( + 6.625696031788314e-8 % )\n",
      "└ @ Main.HMMToolkit c:\\Users\\ianwe\\OneDrive\\Documents\\GitHub\\HMMToolkit\\src\\CTHMM-learn-EM.jl:93\n",
      "┌ Info: Iteration 140 sub 1, updating Q: 11650.093691816466 ->  11650.762208840843, ( + 0.005738297408251213 % )\n",
      "└ @ Main.HMMToolkit c:\\Users\\ianwe\\OneDrive\\Documents\\GitHub\\HMMToolkit\\src\\CTHMM-learn-EM.jl:122\n",
      "┌ Info: Iteration 140, updating dim 1: 11650.762208840843 ->  11650.802004938285, ( + 0.0003415750551683105 % )\n",
      "└ @ Main.HMMToolkit c:\\Users\\ianwe\\OneDrive\\Documents\\GitHub\\HMMToolkit\\src\\CTHMM-learn-EM.jl:147\n",
      "┌ Info: Iteration 140, updating dim 2: 11650.802004938285 ->  11650.944574449182, ( + 0.0012236883850308751 % )\n",
      "└ @ Main.HMMToolkit c:\\Users\\ianwe\\OneDrive\\Documents\\GitHub\\HMMToolkit\\src\\CTHMM-learn-EM.jl:147\n",
      "┌ Info: Iteration 140, updating dim 3: 11650.944574449182 ->  11651.217587800238, ( + 0.002343272249827511 % )\n",
      "└ @ Main.HMMToolkit c:\\Users\\ianwe\\OneDrive\\Documents\\GitHub\\HMMToolkit\\src\\CTHMM-learn-EM.jl:147\n",
      "┌ Info: Iteration 150, updating π_list: 11659.95934342411 ->  11659.959344342466, ( + 7.876142378451144e-9 % )\n",
      "└ @ Main.HMMToolkit c:\\Users\\ianwe\\OneDrive\\Documents\\GitHub\\HMMToolkit\\src\\CTHMM-learn-EM.jl:93\n",
      "┌ Info: Iteration 150 sub 1, updating Q: 11659.959344342466 ->  11660.231464685527, ( + 0.002333801817182739 % )\n",
      "└ @ Main.HMMToolkit c:\\Users\\ianwe\\OneDrive\\Documents\\GitHub\\HMMToolkit\\src\\CTHMM-learn-EM.jl:122\n",
      "┌ Info: Iteration 150, updating dim 1: 11660.231464685527 ->  11660.261835372476, ( + 0.0002604638427719762 % )\n",
      "└ @ Main.HMMToolkit c:\\Users\\ianwe\\OneDrive\\Documents\\GitHub\\HMMToolkit\\src\\CTHMM-learn-EM.jl:147\n",
      "┌ Info: Iteration 150, updating dim 2: 11660.261835372476 ->  11660.305540721212, ( + 0.0003748230473187974 % )\n",
      "└ @ Main.HMMToolkit c:\\Users\\ianwe\\OneDrive\\Documents\\GitHub\\HMMToolkit\\src\\CTHMM-learn-EM.jl:147\n",
      "┌ Info: Iteration 150, updating dim 3: 11660.305540721212 ->  11660.534042594003, ( + 0.0019596559626395235 % )\n",
      "└ @ Main.HMMToolkit c:\\Users\\ianwe\\OneDrive\\Documents\\GitHub\\HMMToolkit\\src\\CTHMM-learn-EM.jl:147\n",
      "┌ Info: Iteration 160, updating π_list: 11664.428486345289 ->  11664.428486479897, ( + 1.1540115660083769e-9 % )\n",
      "└ @ Main.HMMToolkit c:\\Users\\ianwe\\OneDrive\\Documents\\GitHub\\HMMToolkit\\src\\CTHMM-learn-EM.jl:93\n",
      "┌ Info: Iteration 160 sub 1, updating Q: 11664.428486479897 ->  11664.519367962035, ( + 0.0007791336047292351 % )\n",
      "└ @ Main.HMMToolkit c:\\Users\\ianwe\\OneDrive\\Documents\\GitHub\\HMMToolkit\\src\\CTHMM-learn-EM.jl:122\n",
      "┌ Info: Iteration 160, updating dim 1: 11664.519367962035 ->  11664.531178872712, ( + 0.00010125501363951178 % )\n",
      "└ @ Main.HMMToolkit c:\\Users\\ianwe\\OneDrive\\Documents\\GitHub\\HMMToolkit\\src\\CTHMM-learn-EM.jl:147\n",
      "┌ Info: Iteration 160, updating dim 2: 11664.531178872712 ->  11664.557071683459, ( + 0.000221979009270257 % )\n",
      "└ @ Main.HMMToolkit c:\\Users\\ianwe\\OneDrive\\Documents\\GitHub\\HMMToolkit\\src\\CTHMM-learn-EM.jl:147\n",
      "┌ Info: Iteration 160, updating dim 3: 11664.557071683459 ->  11664.631230204552, ( + 0.0006357594260706076 % )\n",
      "└ @ Main.HMMToolkit c:\\Users\\ianwe\\OneDrive\\Documents\\GitHub\\HMMToolkit\\src\\CTHMM-learn-EM.jl:147\n",
      "┌ Info: Iteration 170, updating π_list: 11665.366412725472 ->  11665.366412725576, ( + 8.888053090986421e-13 % )\n",
      "└ @ Main.HMMToolkit c:\\Users\\ianwe\\OneDrive\\Documents\\GitHub\\HMMToolkit\\src\\CTHMM-learn-EM.jl:93\n",
      "┌ Info: Iteration 170 sub 1, updating Q: 11665.366412725576 ->  11665.38038344669, ( + 0.00011976238568412031 % )\n",
      "└ @ Main.HMMToolkit c:\\Users\\ianwe\\OneDrive\\Documents\\GitHub\\HMMToolkit\\src\\CTHMM-learn-EM.jl:122\n",
      "┌ Info: Iteration 170, updating dim 1: 11665.38038344669 ->  11665.381487066836, ( + 9.460644305242997e-6 % )\n",
      "└ @ Main.HMMToolkit c:\\Users\\ianwe\\OneDrive\\Documents\\GitHub\\HMMToolkit\\src\\CTHMM-learn-EM.jl:147\n",
      "┌ Info: Iteration 170, updating dim 2: 11665.381487066836 ->  11665.383757665526, ( + 1.9464418654626596e-5 % )\n",
      "└ @ Main.HMMToolkit c:\\Users\\ianwe\\OneDrive\\Documents\\GitHub\\HMMToolkit\\src\\CTHMM-learn-EM.jl:147\n",
      "┌ Info: Iteration 170, updating dim 3: 11665.383757665526 ->  11665.389925696694, ( + 5.287465287388438e-5 % )\n",
      "└ @ Main.HMMToolkit c:\\Users\\ianwe\\OneDrive\\Documents\\GitHub\\HMMToolkit\\src\\CTHMM-learn-EM.jl:147\n",
      "┌ Info: Iteration 180, updating π_list: 11665.479039325273 ->  11665.47903932883, ( + 3.048416847644376e-11 % )\n",
      "└ @ Main.HMMToolkit c:\\Users\\ianwe\\OneDrive\\Documents\\GitHub\\HMMToolkit\\src\\CTHMM-learn-EM.jl:93\n",
      "┌ Info: Iteration 180 sub 1, updating Q: 11665.47903932883 ->  11665.481788784888, ( + 2.3569165474345185e-5 % )\n",
      "└ @ Main.HMMToolkit c:\\Users\\ianwe\\OneDrive\\Documents\\GitHub\\HMMToolkit\\src\\CTHMM-learn-EM.jl:122\n",
      "┌ Info: Iteration 180, updating dim 1: 11665.481788784888 ->  11665.481894521283, ( + 9.064040141083004e-7 % )\n",
      "└ @ Main.HMMToolkit c:\\Users\\ianwe\\OneDrive\\Documents\\GitHub\\HMMToolkit\\src\\CTHMM-learn-EM.jl:147\n",
      "┌ Info: Iteration 180, updating dim 2: 11665.481894521283 ->  11665.48204567469, ( + 1.2957322110158414e-6 % )\n",
      "└ @ Main.HMMToolkit c:\\Users\\ianwe\\OneDrive\\Documents\\GitHub\\HMMToolkit\\src\\CTHMM-learn-EM.jl:147\n",
      "┌ Info: Iteration 180, updating dim 3: 11665.48204567469 ->  11665.482690756413, ( + 5.529833410287053e-6 % )\n",
      "└ @ Main.HMMToolkit c:\\Users\\ianwe\\OneDrive\\Documents\\GitHub\\HMMToolkit\\src\\CTHMM-learn-EM.jl:147\n",
      "┌ Info: Iteration 190, updating π_list: 11667.198555088444 ->  11667.198595756532, ( + 3.485677229162186e-7 % )\n",
      "└ @ Main.HMMToolkit c:\\Users\\ianwe\\OneDrive\\Documents\\GitHub\\HMMToolkit\\src\\CTHMM-learn-EM.jl:93\n",
      "┌ Info: Iteration 190 sub 1, updating Q: 11667.198595756532 ->  11667.663870288481, ( + 0.003987885593361372 % )\n",
      "└ @ Main.HMMToolkit c:\\Users\\ianwe\\OneDrive\\Documents\\GitHub\\HMMToolkit\\src\\CTHMM-learn-EM.jl:122\n",
      "┌ Info: Iteration 190, updating dim 1: 11667.663870288481 ->  11667.66699599455, ( + 2.6789476487000806e-5 % )\n",
      "└ @ Main.HMMToolkit c:\\Users\\ianwe\\OneDrive\\Documents\\GitHub\\HMMToolkit\\src\\CTHMM-learn-EM.jl:147\n",
      "┌ Info: Iteration 190, updating dim 2: 11667.66699599455 ->  11667.66707046393, ( + 6.382542363696857e-7 % )\n",
      "└ @ Main.HMMToolkit c:\\Users\\ianwe\\OneDrive\\Documents\\GitHub\\HMMToolkit\\src\\CTHMM-learn-EM.jl:147\n",
      "┌ Info: Iteration 190, updating dim 3: 11667.66707046393 ->  11667.683585932611, ( + 0.00014154902245866534 % )\n",
      "└ @ Main.HMMToolkit c:\\Users\\ianwe\\OneDrive\\Documents\\GitHub\\HMMToolkit\\src\\CTHMM-learn-EM.jl:147\n"
     ]
    },
    {
     "data": {
      "text/plain": [
       "(Q_mat_fit = [-1.3624632739733895 6.631035918692271e-66 … 0.0 1.4511779732805807e-151; 1.251835364969253e-19 -2.428090095995018 … 0.0 7.363498980443832e-120; … ; 0.0 0.0 … -0.6327124564171429 0.10654423098150362; 1.0 1.0 … 1.0 -19.0], π_list_fit = [0.4342769712436041, 0.3149295765331207, 0.0, 0.0, 0.0, 0.0, 0.0, 0.2507934522232751, 0.0, 0.0, 0.0, 0.0, 0.0, 0.0, 0.0, 1.8832039420611694e-257, 7.489003401710251e-196, 1.5388378387964442e-166, 0.0, 0.0], state_list_fit = Main.HMMToolkit.AnyExpert{s, Main.HMMToolkit.NonZI, Distribution{Univariate, Continuous}} where s<:Main.HMMToolkit.ExpertSupport[NormalExpert{Float64}(-0.001343697498061204, 0.03750571290235937) NormalExpert{Float64}(0.0020175988837384962, 0.02445230641990994) … NormalExpert{Float64}(-0.0012920849589351385, 0.024893696782703402) NormalExpert{Float64}(0.0013062351556436102, 0.022772089681077582); NormalExpert{Float64}(0.0028958788521581728, 0.03756690925234109) NormalExpert{Float64}(0.006206242801668494, 0.027287945956686835) … NormalExpert{Float64}(-0.007019116584288102, 0.03655510373882021) NormalExpert{Float64}(-0.006584366818817781, 0.03636634513204985); GammaExpert{Float64}(652.7906478340478, 0.10829251000022116) GammaExpert{Float64}(3370.6354775068426, 0.024884837826177342) … GammaExpert{Float64}(791.2980508670106, 0.1565878415499366) GammaExpert{Float64}(1285.9715161694835, 0.10837872770234805)], converge = true, iter = 198, ll = 11667.980829719112, ll_np = 11667.980829719112, AIC = -22335.961659438224, BIC = -19050.689475981606)"
      ]
     },
     "metadata": {},
     "output_type": "display_data"
    }
   ],
   "source": [
    "model_fit = CTHMM_learn_EM(train_set, response_list, Q_mat_init, π_list_init, state_list_init;\n",
    "                            ϵ = 1e-03, max_iter = 1000, Q_max_iter = 1, soft_decode = 1, print_steps = 10, penalty = false, block_size = block_size)"
   ]
  },
  {
   "cell_type": "markdown",
   "metadata": {},
   "source": [
    "And the estimation algorithm converged in 198 iterations."
   ]
  },
  {
   "cell_type": "code",
   "execution_count": 8,
   "metadata": {},
   "outputs": [
    {
     "data": {
      "text/plain": [
       "(true, 198)"
      ]
     },
     "metadata": {},
     "output_type": "display_data"
    }
   ],
   "source": [
    "model_fit.converge, model_fit.iter"
   ]
  },
  {
   "cell_type": "markdown",
   "metadata": {},
   "source": [
    "## Unsupervised Anomaly Detection\n",
    "\n",
    "Having fitted a CTHMM to the 7 trips of D2, we can perform unsupervised anomaly detection to identify outliers and anomalous driving behaviour.  We compute the normal forecast pseudo-residuals of each trip under the fitted model."
   ]
  },
  {
   "cell_type": "code",
   "execution_count": 9,
   "metadata": {},
   "outputs": [
    {
     "data": {
      "text/plain": [
       "(ordinary_list = Array{Float64}[[-0.11765723532982728 -0.2894013703346266 -0.8394934685298964; 0.5802341580925483 -0.3730568361190037 -1.1115390995282501; … ; 0.23809511416674384 -0.6671554363506517 -1.0955698774396438; -0.07497329491995294 0.7913986427249673 -2.04276745970846], [0.8186651087766844 1.3296727467318536 -0.6406868430946567; 1.5713478380761108 2.237885384080189 -0.18860381481185082; … ; 0.16407826843666784 -0.958025179268242 -0.12398606465728054; 0.48758961326768513 0.1278534213624854 -1.4004153625743427], [0.08792883874957305 1.9234912236437434 0.3113859846262809; 0.7728203805244327 1.0495102159724934 -0.14523715981302404; … ; 0.2619798900032585 -0.12246495652130873 -1.291285357138562; 0.0665256510043835 0.7187581858311246 -2.367163338067277], [1.0708740860220844 1.1180953503584263 -0.4499580084865886; 1.2288488565318463 -0.18493861243712956 0.02159381709734081; … ; 0.7588388990261209 -0.0692482762148587 -0.10601870112736445; 0.33009203992894043 0.4464079059195058 -0.3454202985585308], [0.6361006089129558 0.554630272814618 -2.504996554794572; -0.5870211517312185 0.9034374077198216 -1.1705935280905762; … ; 0.09461615094296276 -1.898706208599523 -2.7287132648535093; -1.1431592592683504 -2.0238174310330224 -4.310409212428403], [-2.0337337341184094 0.24005636122760857 -1.5417441292333727; 0.4815199958756801 -1.678537602649401 0.45674804343242453; … ; 0.23820113525466594 1.1805459615116565 -2.3347629911274583; -1.643555648640052 0.29116043196421626 -2.981489080957009], [0.39036937308340636 1.7229857358786256 -2.161273179559252; 0.38568286651258155 -0.21195529387159692 -0.9087143710551261; … ; 0.1903141714637244 0.99095793490537 -2.0280760667095747; 0.5566870466619714 -0.198665361553631 -2.099489657710381]], forecast_list = Array{Float64}[[0.5133198050880902 -0.3372754888196586 -0.30048551823172875; 1.3163166046851178 -0.14794100429295892 -0.23176391186794093; … ; 0.20754499546660077 -0.6892460653628455 -1.1175870075598044; -0.07497329491995267 0.7913986427249673 -2.04276745970846], [1.3674724575010309 2.34054638012936 0.6430051979602621; 0.12370304060586294 1.2603280182298857 1.4320171692734092; … ; 0.11096923777124336 -1.0654765736951837 -0.3741808584563046; 0.4875896132676849 0.12785342136248568 -1.4004153625743434], [0.7474556964923643 1.0947748311046817 1.1103593772201175; -0.06541887963732156 0.08744154736705612 2.175964116422053; … ; 0.23101696202815336 -0.15184586486043372 -1.3113189112611863; 0.06652565100438378 0.718758185831125 -2.367163338067277], [1.2374746400587686 -0.14180566061586697 -0.021565422604159716; -0.6462886053400658 -1.5056105724133966 -0.040751035910340655; … ; 0.741714338444884 -0.30653396431650476 -1.0275731411244917; 0.33009203992894104 0.44640790591950746 -0.34542029855853], [-0.5868221840546741 0.9172851488073434 -0.9870907504670179; -0.03970649526257348 0.4991080731034565 0.5350254865590077; … ; 0.06653117558696829 -1.907246561259375 -2.740019400603276; -1.1431592592683504 -2.0238174310330224 -4.310409212428403], [0.5865422423026604 -3.0783269081295828 1.9557951647828338; 2.3881880469457677 -1.1366827951210823 -0.6220185013101809; … ; 0.20756671055105058 1.159336932408331 -2.3478437459185786; -1.643555648640052 0.291160431964216 -2.981489080957009], [0.39781021197666144 -0.18842967194446228 -0.7850757521216166; -1.0401951356727337 0.9991602133784113 0.5922079241637096; … ; 0.1586399668820966 0.960831015650756 -2.043481756183653; 0.5566870466619724 -0.19866536155363054 -2.099489657710381]])"
      ]
     },
     "metadata": {},
     "output_type": "display_data"
    }
   ],
   "source": [
    "\n",
    "ordinary_list, forecast_list = CTHMM_batch_pseudo_residuals(0, train_set, response_list, model_fit.Q_mat_fit, model_fit.π_list_fit, model_fit.state_list_fit;\n",
    "                                                                keep_last = 1, ZI_list = nothing)\n",
    "## compute normal pseudo-residuals"
   ]
  },
  {
   "cell_type": "markdown",
   "metadata": {},
   "source": [
    "We can assess the forecast pseudo-residuals at each data point."
   ]
  },
  {
   "cell_type": "code",
   "execution_count": 10,
   "metadata": {},
   "outputs": [
    {
     "data": {
      "text/plain": [
       "639×3 Matrix{Float64}:\n",
       "  0.51332    -0.337275   -0.300486\n",
       "  1.31632    -0.147941   -0.231764\n",
       "  0.150356   -0.350103    0.134631\n",
       " -1.17098    -0.324817    0.269121\n",
       " -0.694387    0.053381    0.576391\n",
       " -0.293478   -0.647822    0.727504\n",
       "  0.509234   -0.408216    0.838494\n",
       " -0.106671   -0.362112    0.375829\n",
       "  0.0867517  -0.459294    0.275922\n",
       " -0.961603    0.0665221  -0.947623\n",
       "  ⋮                      \n",
       "  0.232474   -0.0176326   0.238859\n",
       " -0.10122     0.377851    0.384063\n",
       " -0.264322    0.17428     0.365298\n",
       "  0.137076    0.151116    0.335599\n",
       "  0.441055   -0.408641    0.0900876\n",
       "  0.160611   -0.385202   -0.275459\n",
       "  0.160614    0.0345971  -0.588036\n",
       "  0.207545   -0.689246   -1.11759\n",
       " -0.0749733   0.791399   -2.04277"
      ]
     },
     "metadata": {},
     "output_type": "display_data"
    }
   ],
   "source": [
    "forecast_list[1]"
   ]
  },
  {
   "cell_type": "markdown",
   "metadata": {},
   "source": [
    "We can also quantify the level of anomalousness of each trip using the anomaly indices (outlier proportions)."
   ]
  },
  {
   "cell_type": "code",
   "execution_count": 11,
   "metadata": {},
   "outputs": [
    {
     "data": {
      "text/plain": [
       "7×3 Matrix{Float64}:\n",
       " 0.00156495  0.00156495  0.0\n",
       " 0.00294985  0.00147493  0.0\n",
       " 0.00330579  0.0181818   0.00165289\n",
       " 0.0126183   0.00473186  0.0\n",
       " 0.00321888  0.00214592  0.00107296\n",
       " 0.00586166  0.017585    0.00117233\n",
       " 0.0140389   0.00215983  0.0"
      ]
     },
     "metadata": {},
     "output_type": "display_data"
    }
   ],
   "source": [
    "CTHMM_anomaly_indices(forecast_list)"
   ]
  },
  {
   "cell_type": "markdown",
   "metadata": {},
   "source": [
    "The two aggressive trips are characterized by their highest anomaly indices in longitudinal acceleration (2nd column), while the two drowsy trips are chracterized by their highest anomaly indices in lateral acceleration (1st column).\n",
    "\n",
    "Alternatively, users can compute the anomaly indices directly from the fitted CTHMM:"
   ]
  },
  {
   "cell_type": "code",
   "execution_count": 12,
   "metadata": {},
   "outputs": [
    {
     "data": {
      "text/plain": [
       "7×3 Matrix{Float64}:\n",
       " 0.00156495  0.00156495  0.0\n",
       " 0.00294985  0.00147493  0.0\n",
       " 0.00330579  0.0181818   0.00165289\n",
       " 0.0126183   0.00473186  0.0\n",
       " 0.00321888  0.00214592  0.00107296\n",
       " 0.00586166  0.017585    0.00117233\n",
       " 0.0140389   0.00215983  0.0"
      ]
     },
     "metadata": {},
     "output_type": "display_data"
    }
   ],
   "source": [
    "CTHMM_batch_anomaly_indices(train_set, response_list, model_fit.Q_mat_fit, model_fit.π_list_fit, model_fit.state_list_fit;\n",
    "                                keep_last = 1, ZI_list = nothing)"
   ]
  }
 ],
 "metadata": {
  "kernelspec": {
   "display_name": "Julia 1.10.7",
   "language": "julia",
   "name": "julia-1.10"
  },
  "language_info": {
   "file_extension": ".jl",
   "mimetype": "application/julia",
   "name": "julia",
   "version": "1.10.7"
  }
 },
 "nbformat": 4,
 "nbformat_minor": 2
}
